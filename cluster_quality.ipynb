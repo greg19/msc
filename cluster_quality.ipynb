{
 "cells": [
  {
   "cell_type": "code",
   "execution_count": 1,
   "metadata": {},
   "outputs": [],
   "source": [
    "%load_ext autoreload\n",
    "%autoreload 2"
   ]
  },
  {
   "cell_type": "code",
   "execution_count": 2,
   "metadata": {},
   "outputs": [],
   "source": [
    "from distance import *\n",
    "from ksets import *\n",
    "from utils import *\n",
    "\n",
    "from sklearn.metrics import silhouette_score, silhouette_samples\n",
    "from sklearn.preprocessing import normalize\n",
    "from sklearn_extra.cluster import KMedoids"
   ]
  },
  {
   "cell_type": "code",
   "execution_count": 3,
   "metadata": {},
   "outputs": [],
   "source": [
    "meta, projects, votes = load_pb_ohe('data/poland_warszawa_2023_srodmiescie.pb')"
   ]
  },
  {
   "cell_type": "code",
   "execution_count": 4,
   "metadata": {},
   "outputs": [],
   "source": [
    "d_jaccard = jaccard(votes, votes)\n",
    "d_cosine = cosine(votes, votes)\n",
    "d_chord = chord(votes, votes)"
   ]
  },
  {
   "cell_type": "code",
   "execution_count": 5,
   "metadata": {},
   "outputs": [
    {
     "name": "stdout",
     "output_type": "stream",
     "text": [
      "Iteration 0 norm is (252.91391587217416, 0.015121093602125529)\n",
      "Iteration 1 norm is (0.9878119741737995, 0.9751355504079687)\n",
      "Iteration 2 norm is (73.04859816227768, 0.01111942708731678)\n",
      "Iteration 3 norm is (0.7986134797472321, 0.7964697614659962)\n",
      "Iteration 4 norm is (58.049385995321465, 0.008765107393857623)\n",
      "Iteration 5 norm is (0.636361414084413, 0.6317840353634797)\n",
      "Iteration 6 norm is (46.03245085269339, 0.006907851600687049)\n",
      "Iteration 7 norm is (0.5034398917687158, 0.49833574272491993)\n",
      "Iteration 8 norm is (36.35922548514709, 0.005442944257802915)\n",
      "Iteration 9 norm is (0.39726924345208126, 0.39270208654713873)\n",
      "Iteration 10 norm is (28.674267844144328, 0.004288367635962347)\n",
      "Iteration 11 norm is (0.3131867832791055, 0.3094043326027651)\n",
      "Iteration 12 norm is (22.599964980205442, 0.0033786129092780596)\n",
      "Iteration 13 norm is (0.24680643476187517, 0.24376553737075152)\n",
      "Iteration 14 norm is (17.808149656333313, 0.002661830820638493)\n",
      "Iteration 15 norm is (0.19446550461260936, 0.1920497090608267)\n",
      "Iteration 16 norm is (14.030964741531305, 0.0020971076646025674)\n",
      "Iteration 17 norm is (0.15321496369448073, 0.15130510213360512)\n",
      "Iteration 18 norm is (11.054495342581632, 0.0016521912095297337)\n",
      "Iteration 19 norm is (0.12071143397102665, 0.11920459259988886)\n",
      "Iteration 20 norm is (8.709297661540292, 0.0013016661194687584)\n",
      "Iteration 21 norm is (0.09510227354910872, 0.09391440465387266)\n",
      "Iteration 22 norm is (6.861583675574976, 0.001025507347991366)\n",
      "Iteration 23 norm is (0.0749258041938141, 0.07398971504761366)\n",
      "Iteration 24 norm is (5.405854465991823, 0.0008079377546494674)\n",
      "Iteration 25 norm is (0.05902977120462073, 0.05829220295696719)\n",
      "Iteration 26 norm is (4.25896249302472, 0.0006365272622156601)\n",
      "Iteration 27 norm is (0.04650615564878257, 0.045925042713292764)\n",
      "Iteration 28 norm is (3.3553904460764468, 0.0005014828744215491)\n",
      "Iteration 29 norm is (0.036639508287929896, 0.03618167464889247)\n",
      "Iteration 30 norm is (2.64351768801804, 0.0003950892384201776)\n",
      "Iteration 31 norm is (0.02886614386961371, 0.02850544052324933)\n",
      "Iteration 32 norm is (2.082674211730069, 0.0003112678692288046)\n",
      "Iteration 33 norm is (0.022741959485143765, 0.022457781336602242)\n",
      "Iteration 34 norm is (1.6408181159494302, 0.0002452298793592341)\n",
      "Iteration 35 norm is (0.017917069590047, 0.01769318182231939)\n",
      "Iteration 36 norm is (1.2927053270535211, 0.0001932023817391801)\n",
      "Iteration 37 norm is (0.014115818805922392, 0.013939430533502349)\n",
      "Iteration 38 norm is (1.0184474656445917, 0.0001522129375010064)\n",
      "Iteration 39 norm is (0.011121033978250669, 0.010982067867641889)\n",
      "Iteration 40 norm is (0.8023756193703933, 0.00011991973458934018)\n",
      "Iteration 41 norm is (0.008761616893863039, 0.008652133553916279)\n",
      "Iteration 42 norm is (0.6321451577473877, 9.44777952479604e-05)\n",
      "Iteration 43 norm is (0.006902769174728516, 0.006816513605171504)\n",
      "Iteration 44 norm is (0.4980304618252291, 7.443356863114113e-05)\n",
      "Iteration 45 norm is (0.005438290996070608, 0.005370335240364833)\n",
      "Iteration 46 norm is (0.39236928071947663, 5.8641886430365555e-05)\n",
      "Iteration 47 norm is (0.004284513679238394, 0.004230975285060775)\n",
      "Iteration 48 norm is (0.3091249717443911, 4.620053703384255e-05)\n",
      "Iteration 49 norm is (0.003375519529925124, 0.003333339737938253)\n",
      "Iteration 50 norm is (0.24354161461714846, 3.6398720302803385e-05)\n",
      "Iteration 51 norm is (0.0026593758241201357, 0.0026261448152960403)\n",
      "Iteration 52 norm is (0.19187229590287938, 2.8676438083848885e-05)\n",
      "Iteration 53 norm is (0.0020951677841381656, 0.00206898700195775)\n",
      "Iteration 54 norm is (0.15116504008022535, 2.2592500349956444e-05)\n",
      "Iteration 55 norm is (0.0016506610325161375, 0.0016300347145124484)\n",
      "Iteration 56 norm is (0.1190941570530048, 1.779931909840632e-05)\n",
      "Iteration 57 norm is (0.0013004599750301247, 0.0012842096968235623)\n",
      "Iteration 58 norm is (0.0938273706448625, 1.4023049926077428e-05)\n",
      "Iteration 59 norm is (0.001024556897667249, 0.0010117542471536195)\n",
      "Iteration 60 norm is (0.07392113685488912, 1.1047946729543478e-05)\n",
      "Iteration 61 norm is (0.0008071888844789076, 0.0007971024196171272)\n",
      "Iteration 62 norm is (0.05823817119000251, 8.704035682878242e-06)\n",
      "Iteration 63 norm is (0.0006359372492702248, 0.0006279907093513559)\n",
      "Iteration 64 norm is (0.04588247323907917, 6.85740427861344e-06)\n",
      "Iteration 65 norm is (0.0005010180303695254, 0.0004947574130069028)\n",
      "Iteration 66 norm is (0.03614813630854561, 5.402550627566504e-06)\n",
      "Iteration 67 norm is (0.00039472301244831417, 0.0003897906355624175)\n",
      "Iteration 68 norm is (0.028479017505716023, 4.256355917949659e-06)\n",
      "Iteration 69 norm is (0.00031097934029957733, 0.00030709340694624486)\n",
      "Iteration 70 norm is (0.022436964140212626, 3.353335664766465e-06)\n",
      "Iteration 71 norm is (0.0002450025639132012, 0.0002419410626777666)\n",
      "Iteration 72 norm is (0.017676781150479867, 2.6418984448158574e-06)\n",
      "Iteration 73 norm is (0.00019302329301422097, 0.00019061131397051523)\n",
      "Iteration 74 norm is (0.013926509392702058, 2.081398371999768e-06)\n",
      "Iteration 75 norm is (0.00015207184387414544, 0.000150171585638933)\n",
      "Iteration 76 norm is (0.010971888049842185, 1.6398129122493034e-06)\n",
      "Iteration 77 norm is (0.00011980857508663593, 0.00011831147198756993)\n",
      "Iteration 78 norm is (0.008644113466198297, 1.2919133710410267e-06)\n",
      "Iteration 79 norm is (9.439021913048278e-05, 9.321073853144472e-05)\n",
      "Iteration 80 norm is (0.0068101950436304775, 1.0178235250179856e-06)\n",
      "Iteration 81 norm is (7.436457252607682e-05, 7.343532821986843e-05)\n",
      "Iteration 82 norm is (0.005365357212584488, 8.018840511838732e-07)\n",
      "Iteration 83 norm is (5.858752840960842e-05, 5.785543077669501e-05)\n",
      "Iteration 84 norm is (0.0042270533859827, 6.31757879473794e-07)\n",
      "Iteration 85 norm is (4.615771151730456e-05, 4.558093429283396e-05)\n",
      "Iteration 86 norm is (0.0033302499014141148, 4.977253474723369e-07)\n",
      "Iteration 87 norm is (3.636498052747545e-05, 3.5910571283025335e-05)\n",
      "Iteration 88 norm is (0.002623710512551993, 3.921288986646984e-07)\n",
      "Iteration 89 norm is (2.8649856477016306e-05, 2.829185381734408e-05)\n",
      "Iteration 90 norm is (0.002067069156194797, 3.089355887351954e-07)\n",
      "Iteration 91 norm is (2.2571558243960506e-05, 2.2289508738766974e-05)\n",
      "Iteration 92 norm is (0.0016285237552046698, 2.4339241038145437e-07)\n",
      "Iteration 93 norm is (1.7782819992361453e-05, 1.7560609602326146e-05)\n",
      "Iteration 94 norm is (0.001283019299725667, 1.9175474661318758e-07)\n",
      "Iteration 95 norm is (1.4010051254167189e-05, 1.3834984576068109e-05)\n",
      "Iteration 96 norm is (0.001010816402426373, 1.510724294998977e-07)\n",
      "Iteration 97 norm is (1.1037705803634086e-05, 1.0899780961845723e-05)\n",
      "Iteration 98 norm is (0.000796363546224616, 1.1902119440399624e-07)\n",
      "Iteration 99 norm is (8.695967430779377e-06, 8.587304478848743e-06)\n",
      "Iteration 100 norm is (0.0006274085939440803, 9.376988758300537e-08)\n",
      "Iteration 101 norm is (6.8510477858372075e-06, 6.765438541483104e-06)\n",
      "Iteration 102 norm is (0.0004942987980706343, 7.387584945084699e-08)\n",
      "Iteration 103 norm is (5.397542737358803e-06, 5.33009616348045e-06)\n",
      "Iteration 104 norm is (0.00038942931946379364, 5.820249168160227e-08)\n",
      "Iteration 105 norm is (4.252410471559469e-06, 4.199273253288372e-06)\n"
     ]
    }
   ],
   "source": [
    "C = 0.9\n",
    "d_simrank = simrank(votes, 0.9, 0.9, max_iter=1000)\n",
    "d_simrank = (d_simrank - (1 - C)) / C\n",
    "d_simrank[d_simrank < 0] = 0"
   ]
  },
  {
   "cell_type": "code",
   "execution_count": 13,
   "metadata": {},
   "outputs": [],
   "source": [
    "def cluster(d: np.ndarray, k: int):\n",
    "    return KMedoids(n_clusters=k, metric='precomputed', init='k-medoids++').fit(d).labels_"
   ]
  },
  {
   "cell_type": "code",
   "execution_count": 14,
   "metadata": {},
   "outputs": [],
   "source": [
    "def score(d: np.ndarray, k: int):\n",
    "    return silhouette_score(d, cluster(d, k), metric='precomputed')"
   ]
  },
  {
   "cell_type": "code",
   "execution_count": 16,
   "metadata": {},
   "outputs": [
    {
     "name": "stdout",
     "output_type": "stream",
     "text": [
      " 2 | 0.145 | 0.139 | 0.124 | 0.035\n",
      " 3 | 0.063 | 0.140 | 0.085 | 0.049\n",
      " 4 | 0.074 | 0.107 | 0.085 | 0.054\n",
      " 5 | 0.100 | 0.163 | 0.076 | 0.065\n",
      " 6 | 0.122 | 0.111 | 0.098 | 0.064\n",
      " 7 | 0.117 | 0.115 | 0.096 | 0.066\n",
      " 8 | 0.138 | 0.115 | 0.117 | 0.068\n",
      " 9 | 0.117 | 0.146 | 0.109 | 0.078\n",
      "10 | 0.127 | 0.155 | 0.115 | 0.080\n",
      "11 | 0.121 | 0.156 | 0.117 | 0.085\n",
      "12 | 0.151 | 0.145 | 0.120 | 0.084\n",
      "13 | 0.139 | 0.150 | 0.136 | 0.082\n",
      "14 | 0.127 | 0.143 | 0.129 | 0.081\n",
      "15 | 0.146 | 0.146 | 0.136 | 0.084\n",
      "16 | 0.147 | 0.158 | 0.132 | 0.085\n",
      "17 | 0.134 | 0.157 | 0.120 | 0.085\n",
      "18 | 0.148 | 0.167 | 0.146 | 0.087\n",
      "19 | 0.144 | 0.171 | 0.135 | 0.068\n",
      "20 | 0.156 | 0.159 | 0.139 | 0.086\n",
      "21 | 0.152 | 0.161 | 0.141 | 0.085\n",
      "22 | 0.140 | 0.167 | 0.138 | 0.050\n",
      "23 | 0.148 | 0.158 | 0.141 | 0.075\n",
      "24 | 0.142 | 0.155 | 0.133 | 0.087\n",
      "25 | 0.147 | 0.174 | 0.144 | 0.079\n",
      "26 | 0.148 | 0.169 | 0.138 | 0.048\n",
      "27 | 0.150 | 0.160 | 0.138 | 0.076\n",
      "28 | 0.157 | 0.163 | 0.130 | 0.083\n",
      "29 | 0.152 | 0.165 | 0.142 | 0.050\n"
     ]
    }
   ],
   "source": [
    "ds = [\n",
    "    d_jaccard,\n",
    "    d_cosine,\n",
    "    d_chord,\n",
    "    d_simrank,\n",
    "]\n",
    "for k in range(2, 30):\n",
    "    scores = list(map(lambda d: score(d, k), ds))\n",
    "    print(f\"{k:2}\", end='')\n",
    "    for s in scores:\n",
    "        print(f\" | {s:.3f}\", end='')\n",
    "    print()"
   ]
  },
  {
   "cell_type": "code",
   "execution_count": null,
   "metadata": {},
   "outputs": [],
   "source": []
  }
 ],
 "metadata": {
  "kernelspec": {
   "display_name": "Python 3",
   "language": "python",
   "name": "python3"
  },
  "language_info": {
   "codemirror_mode": {
    "name": "ipython",
    "version": 3
   },
   "file_extension": ".py",
   "mimetype": "text/x-python",
   "name": "python",
   "nbconvert_exporter": "python",
   "pygments_lexer": "ipython3",
   "version": "3.12.7"
  }
 },
 "nbformat": 4,
 "nbformat_minor": 2
}
