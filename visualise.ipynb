{
 "cells": [
  {
   "cell_type": "code",
   "execution_count": 1,
   "metadata": {},
   "outputs": [],
   "source": [
    "%load_ext autoreload\n",
    "%autoreload 2"
   ]
  },
  {
   "cell_type": "code",
   "execution_count": 2,
   "metadata": {},
   "outputs": [],
   "source": [
    "from utils import *\n",
    "from distance import jaccard\n",
    "from ksets import *\n",
    "import numpy as np\n",
    "import pandas as pd\n",
    "import plotly.express as px\n",
    "import plotly.graph_objects as go\n",
    "import plotly.colors\n",
    "from plotly.subplots import make_subplots\n",
    "from sklearn.manifold import TSNE, MDS\n",
    "from sklearn.cluster import KMeans\n",
    "from sklearn.decomposition import PCA\n",
    "from sklearn.preprocessing import normalize"
   ]
  },
  {
   "cell_type": "code",
   "execution_count": 3,
   "metadata": {},
   "outputs": [],
   "source": [
    "meta, projects, votes = load_pb_ohe('data/poland_warszawa_2023_srodmiescie.pb')"
   ]
  },
  {
   "cell_type": "code",
   "execution_count": 4,
   "metadata": {},
   "outputs": [],
   "source": [
    "jaccard_distances = jaccard(votes, votes)"
   ]
  },
  {
   "cell_type": "code",
   "execution_count": 5,
   "metadata": {},
   "outputs": [],
   "source": [
    "embeded_tsne = TSNE(n_components=2, perplexity=30, learning_rate='auto', init='pca').fit_transform(votes)"
   ]
  },
  {
   "cell_type": "code",
   "execution_count": null,
   "metadata": {},
   "outputs": [],
   "source": [
    "embeded_mds_euclid = MDS(n_components=2, normalized_stress='auto', n_jobs=-1).fit_transform(normalize(votes, norm='l2'))\n",
    "# this takes 5-7 minutes on my machine"
   ]
  },
  {
   "cell_type": "code",
   "execution_count": null,
   "metadata": {},
   "outputs": [],
   "source": [
    "embeded_mds_jaccard = MDS(n_components=2, normalized_stress='auto', n_jobs=-1, dissimilarity='precomputed').fit_transform(jaccard_distances)\n",
    "# this takes 5-7 minutes on my machine"
   ]
  },
  {
   "cell_type": "code",
   "execution_count": null,
   "metadata": {},
   "outputs": [],
   "source": [
    "embeded_pca = PCA(n_components=2).fit_transform(votes)"
   ]
  },
  {
   "cell_type": "code",
   "execution_count": null,
   "metadata": {},
   "outputs": [],
   "source": [
    "clusters_kmeans = KMeans(n_clusters=8, n_init=10).fit(normalize(votes, norm='l2')).labels_"
   ]
  },
  {
   "cell_type": "code",
   "execution_count": null,
   "metadata": {},
   "outputs": [],
   "source": [
    "clusters_ksets = kswaps(8, votes, 100)[1]"
   ]
  },
  {
   "cell_type": "code",
   "execution_count": null,
   "metadata": {},
   "outputs": [],
   "source": [
    "def make_graph_object(arr: np.ndarray, cluster_ids):\n",
    "    colors = dict(enumerate(plotly.colors.qualitative.Plotly))\n",
    "    return go.Scatter(\n",
    "        x=arr[:,0],\n",
    "        y=arr[:,1],\n",
    "        mode='markers',\n",
    "        marker=dict(color=[colors[i] for i in cluster_ids]),\n",
    "        hoverinfo='none',\n",
    "    )"
   ]
  },
  {
   "cell_type": "code",
   "execution_count": null,
   "metadata": {},
   "outputs": [],
   "source": [
    "def visualise(embeddings, idss, **kwargs):\n",
    "    if not isinstance(embeddings, list) and not isinstance(idss, list):\n",
    "        return go.Figure(data=make_graph_object(embeddings, idss))\n",
    "    if not isinstance(embeddings, list):\n",
    "        embeddings = [embeddings]\n",
    "    if not isinstance(idss, list):\n",
    "        idss = [idss]\n",
    "    fig = make_subplots(rows=len(embeddings), cols=len(idss), shared_yaxes=True, **kwargs)\n",
    "    for i, embedding in enumerate(embeddings):\n",
    "        for j, ids in enumerate(idss):\n",
    "            fig.append_trace(make_graph_object(embedding, ids), row=i+1, col=j+1)\n",
    "    fig.update_layout(showlegend=False)\n",
    "    return fig\n"
   ]
  },
  {
   "cell_type": "code",
   "execution_count": null,
   "metadata": {},
   "outputs": [],
   "source": [
    "fig = visualise(\n",
    "    [embeded_tsne, embeded_mds_euclid, embeded_mds_jaccard, embeded_pca],\n",
    "    [clusters_kmeans, clusters_ksets],\n",
    "    row_titles=[\"TSNE\", \"MDS Euclid\", \"MDS Jaccard\", \"PCA\"],\n",
    "    column_titles=[\"Euclid KMeans\", \"KSets\"]\n",
    ")\n",
    "fig.update_layout(hovermode=False)\n",
    "fig.update_layout(height=2400, width=1600)\n",
    "fig.write_image(\"clusters.png\")"
   ]
  },
  {
   "cell_type": "code",
   "execution_count": null,
   "metadata": {},
   "outputs": [],
   "source": []
  }
 ],
 "metadata": {
  "kernelspec": {
   "display_name": "Python 3",
   "language": "python",
   "name": "python3"
  },
  "language_info": {
   "codemirror_mode": {
    "name": "ipython",
    "version": 3
   },
   "file_extension": ".py",
   "mimetype": "text/x-python",
   "name": "python",
   "nbconvert_exporter": "python",
   "pygments_lexer": "ipython3",
   "version": "3.12.7"
  }
 },
 "nbformat": 4,
 "nbformat_minor": 2
}
