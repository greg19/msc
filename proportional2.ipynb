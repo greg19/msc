{
 "cells": [
  {
   "cell_type": "code",
   "execution_count": 1,
   "metadata": {},
   "outputs": [],
   "source": [
    "%load_ext autoreload\n",
    "%autoreload 2"
   ]
  },
  {
   "cell_type": "code",
   "execution_count": 2,
   "metadata": {},
   "outputs": [],
   "source": [
    "import numpy as np\n",
    "from tqdm import tqdm\n",
    "\n",
    "from jaccard import *"
   ]
  },
  {
   "cell_type": "code",
   "execution_count": 3,
   "metadata": {},
   "outputs": [],
   "source": [
    "np.set_printoptions(precision=4, suppress=True, floatmode='fixed')"
   ]
  },
  {
   "cell_type": "code",
   "execution_count": 4,
   "metadata": {},
   "outputs": [
    {
     "name": "stdout",
     "output_type": "stream",
     "text": [
      "[[1 0 0]\n",
      " [1 1 1]\n",
      " [0 1 1]\n",
      " [0 1 0]\n",
      " [1 1 1]\n",
      " [0 1 0]\n",
      " [1 0 1]\n",
      " [1 1 1]\n",
      " [1 0 1]\n",
      " [0 1 1]]\n"
     ]
    }
   ],
   "source": [
    "m = 3\n",
    "n = 10\n",
    "avg_votes = 2\n",
    "projects_to_found = 2\n",
    "V = np.random.choice([0, 1], (n, m), p=[1 - avg_votes / m, avg_votes / m])\n",
    "print(V)"
   ]
  },
  {
   "cell_type": "code",
   "execution_count": 110,
   "metadata": {},
   "outputs": [],
   "source": [
    "A, B, C, dist = center(V)\n",
    "centers = np.array([value(c) for c in C]).reshape(1, -1)"
   ]
  },
  {
   "cell_type": "code",
   "execution_count": 113,
   "metadata": {},
   "outputs": [
    {
     "name": "stdout",
     "output_type": "stream",
     "text": [
      "0.5657414263114333\n",
      "[0.5000000400000032, 0.65138786]\n",
      "[[1.0000 1.0000 0.3028]]\n"
     ]
    }
   ],
   "source": [
    "print(dist)\n",
    "print([\n",
    "    sum([value(A[k][i]) for i in range(2)]) / sum([value(B[k][i]) for i in range(2)])\n",
    "    for k in range(2)\n",
    "])\n",
    "print(centers)"
   ]
  },
  {
   "cell_type": "code",
   "execution_count": 17,
   "metadata": {},
   "outputs": [
    {
     "name": "stdout",
     "output_type": "stream",
     "text": [
      "[0.5657 0.2324 0.5657 0.5657 0.2324 0.5657 0.5657 0.2324 0.5657 0.5657]\n"
     ]
    }
   ],
   "source": [
    "dist, _ = jaccard_to_closest(V, centers)\n",
    "print(dist)"
   ]
  },
  {
   "cell_type": "code",
   "execution_count": 119,
   "metadata": {},
   "outputs": [
    {
     "name": "stdout",
     "output_type": "stream",
     "text": [
      "potential results: 21\n",
      "(array([1, 2, 4, 7, 9]), array([0.4660, 1.0000, 1.0000]))\n"
     ]
    }
   ],
   "source": [
    "res = find_blocking_coalition(V, centers, size=n//2, rho=1.93)\n",
    "print(res)"
   ]
  },
  {
   "cell_type": "code",
   "execution_count": null,
   "metadata": {},
   "outputs": [],
   "source": []
  }
 ],
 "metadata": {
  "kernelspec": {
   "display_name": "Python 3",
   "language": "python",
   "name": "python3"
  },
  "language_info": {
   "codemirror_mode": {
    "name": "ipython",
    "version": 3
   },
   "file_extension": ".py",
   "mimetype": "text/x-python",
   "name": "python",
   "nbconvert_exporter": "python",
   "pygments_lexer": "ipython3",
   "version": "3.13.1"
  }
 },
 "nbformat": 4,
 "nbformat_minor": 2
}
