{
 "cells": [
  {
   "cell_type": "code",
   "execution_count": 2,
   "metadata": {},
   "outputs": [],
   "source": [
    "%load_ext autoreload\n",
    "%autoreload 2"
   ]
  },
  {
   "cell_type": "code",
   "execution_count": 38,
   "metadata": {},
   "outputs": [],
   "source": [
    "import numpy as np\n",
    "from tqdm import tqdm\n",
    "\n",
    "from jaccard import *"
   ]
  },
  {
   "cell_type": "code",
   "execution_count": 4,
   "metadata": {},
   "outputs": [],
   "source": [
    "np.set_printoptions(precision=4, suppress=True, floatmode='fixed')"
   ]
  },
  {
   "cell_type": "code",
   "execution_count": 131,
   "metadata": {},
   "outputs": [
    {
     "name": "stdout",
     "output_type": "stream",
     "text": [
      "[[1 0 1 1 1]\n",
      " [0 1 1 1 1]\n",
      " [1 1 1 0 1]\n",
      " [1 1 1 1 1]\n",
      " [0 1 0 0 1]\n",
      " [0 1 1 1 0]\n",
      " [0 1 1 1 0]\n",
      " [1 1 0 1 1]\n",
      " [1 0 0 1 0]\n",
      " [0 1 1 0 1]\n",
      " [0 0 1 1 1]\n",
      " [1 1 1 0 1]\n",
      " [1 1 1 0 0]\n",
      " [1 0 0 0 0]\n",
      " [1 1 0 1 1]]\n"
     ]
    }
   ],
   "source": [
    "m = 5\n",
    "n = 15\n",
    "avg_votes = 3\n",
    "k = 2\n",
    "V = np.random.choice([0, 1], (n, m), p=[1 - avg_votes / m, avg_votes / m])\n",
    "print(V)"
   ]
  },
  {
   "cell_type": "code",
   "execution_count": 133,
   "metadata": {},
   "outputs": [
    {
     "name": "stdout",
     "output_type": "stream",
     "text": [
      "potential results: 3003\n",
      "potential results: 3003\n",
      "potential results: 3003\n",
      "potential results: 6435\n",
      "potential results: 6435\n",
      "potential results: 6435\n",
      "potential results: 3003\n",
      "potential results: 3003\n",
      "potential results: 3003\n",
      "potential results: 6435\n",
      "potential results: 6435\n",
      "potential results: 6435\n"
     ]
    },
    {
     "data": {
      "text/plain": [
       "(array([[0.4433, 1.0000, 1.0000, 1.0000, 1.0000],\n",
       "        [1.0000, 1.0000, 1.0000, 0.4433, 1.0000]]),\n",
       " 1)"
      ]
     },
     "execution_count": 133,
     "metadata": {},
     "output_type": "execute_result"
    }
   ],
   "source": [
    "local_capture(V, k, 20)"
   ]
  },
  {
   "cell_type": "code",
   "execution_count": 58,
   "metadata": {},
   "outputs": [
    {
     "data": {
      "text/plain": [
       "array([[0.5254, 0.6764, 0.0874],\n",
       "       [0.1921, 0.3618, 0.2695],\n",
       "       [0.1921, 0.3618, 0.2695],\n",
       "       [0.1921, 0.3618, 0.2695],\n",
       "       [0.1748, 0.0427, 0.6028],\n",
       "       [0.5874, 0.5112, 0.5437],\n",
       "       [0.5254, 0.6764, 0.0874],\n",
       "       [0.5874, 0.5106, 0.9361],\n",
       "       [0.5874, 0.5106, 0.9361],\n",
       "       [0.1921, 0.3618, 0.2695]])"
      ]
     },
     "execution_count": 58,
     "metadata": {},
     "output_type": "execute_result"
    }
   ],
   "source": [
    "rho=1.125\n",
    "counter={0: 4, 1: 4, 2: 2}\n",
    "v=np.array([0, 1, 2, 3, 6])\n",
    "centers=np.array([[0.4238, 1.0000, 1.0000],\n",
    "       [0.0000, 0.9577, 0.9570]])\n",
    "c=np.array([1.0000, 0.1916, 1.0000])\n",
    "extended=np.array([[0.4238, 1.0000, 1.0000],\n",
    "       [0.0000, 0.9577, 0.9570],\n",
    "       [1.0000, 0.1916, 1.0000]])\n",
    "jaccard(V, extended)"
   ]
  },
  {
   "cell_type": "code",
   "execution_count": 110,
   "metadata": {},
   "outputs": [
    {
     "name": "stdout",
     "output_type": "stream",
     "text": [
      "a_0_0 + a_0_1 + a_0_2 - 0.5329777777777778*b_0_0 - 0.5329777777777778*b_0_1 - 0.5329777777777778*b_0_2 >= 1e-06\n",
      "a_1_0 + a_1_1 + a_1_2 - 0.829274074074074*b_1_0 - 0.829274074074074*b_1_1 - 0.829274074074074*b_1_2 >= 1e-06\n",
      "a_2_0 + a_2_1 + a_2_2 - 0.829274074074074*b_2_0 - 0.829274074074074*b_2_1 - 0.829274074074074*b_2_2 >= 1e-06\n",
      "a_3_0 + a_3_1 + a_3_2 - 0.829274074074074*b_3_0 - 0.829274074074074*b_3_1 - 0.829274074074074*b_3_2 >= 1e-06\n",
      "a_4_0 + a_4_1 + a_4_2 - 0.5329777777777778*b_4_0 - 0.5329777777777778*b_4_1 - 0.5329777777777778*b_4_2 >= 1e-06\n",
      "[[1 0 1]\n",
      " [1 1 1]\n",
      " [1 1 1]\n",
      " [1 1 1]\n",
      " [1 0 1]]\n",
      "[0.5254 0.1921 0.1921 0.1921 0.5254]\n",
      "[0.4670 0.1707 0.1707 0.1707 0.4670]\n",
      "[0.5254 0.1921 0.1921 0.1921 0.5254]\n",
      "1\n",
      "[[1.0, 0.0, 1.0], [1.0, 0.48782322, 1.0], [1.0, 0.48782322, 1.0], [1.0, 0.48782322, 1.0], [1.0, 0.0, 1.0]]\n",
      "[[1.0, 1.0, 1.0], [1.0, 1.0, 1.0], [1.0, 1.0, 1.0], [1.0, 1.0, 1.0], [1.0, 1.0, 1.0]]\n",
      "[1.0, 0.48782322, 1.0]\n"
     ]
    }
   ],
   "source": [
    "dist = jaccard_to_closest(V[v], centers)[0]\n",
    "A, B, C, status = is_blocking_coalition(V[v], dist, rho)\n",
    "assert status == 1\n",
    "l = len(v)\n",
    "print(V[v])\n",
    "print(dist)\n",
    "print(dist / rho)\n",
    "print(jaccard_to_closest(V[v], centers)[0])\n",
    "print(status)\n",
    "A = [[value(a) for a in aa] for aa in A]\n",
    "B = [[value(b) for b in bb] for bb in B]\n",
    "C = [value(c) for c in C]\n",
    "print(A)\n",
    "print(B)\n",
    "print(C)\n",
    "for k, vv in enumerate(v):\n",
    "    for i in range(m):\n",
    "        assert A[k][i] <= C[i]\n",
    "        assert A[k][i] <= V[vv][i]\n",
    "        assert B[k][i] >= C[i]\n",
    "        assert B[k][i] >= V[vv][i]\n",
    "    assert sum(A[k]) >= (1 - (dist / rho)[k]) * sum(B[k]), f\"{sum(A[k])} >= {(1 - dist[k] / rho) * sum(B[k])}\""
   ]
  },
  {
   "cell_type": "code",
   "execution_count": null,
   "metadata": {},
   "outputs": [],
   "source": []
  }
 ],
 "metadata": {
  "kernelspec": {
   "display_name": "Python 3",
   "language": "python",
   "name": "python3"
  },
  "language_info": {
   "codemirror_mode": {
    "name": "ipython",
    "version": 3
   },
   "file_extension": ".py",
   "mimetype": "text/x-python",
   "name": "python",
   "nbconvert_exporter": "python",
   "pygments_lexer": "ipython3",
   "version": "3.13.1"
  }
 },
 "nbformat": 4,
 "nbformat_minor": 2
}
