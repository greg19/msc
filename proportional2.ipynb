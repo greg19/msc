{
 "cells": [
  {
   "cell_type": "code",
   "execution_count": 124,
   "metadata": {},
   "outputs": [
    {
     "name": "stdout",
     "output_type": "stream",
     "text": [
      "The autoreload extension is already loaded. To reload it, use:\n",
      "  %reload_ext autoreload\n"
     ]
    }
   ],
   "source": [
    "%load_ext autoreload\n",
    "%autoreload 2"
   ]
  },
  {
   "cell_type": "code",
   "execution_count": 131,
   "metadata": {},
   "outputs": [],
   "source": [
    "import numpy as np\n",
    "\n",
    "from jaccard import *"
   ]
  },
  {
   "cell_type": "code",
   "execution_count": 62,
   "metadata": {},
   "outputs": [],
   "source": [
    "np.set_printoptions(precision=4, suppress=True, floatmode='fixed')"
   ]
  },
  {
   "cell_type": "code",
   "execution_count": 135,
   "metadata": {},
   "outputs": [],
   "source": [
    "V = np.array([\n",
    "    [1, 1, 0],\n",
    "    [1, 0, 0],\n",
    "])\n",
    "C = np.array([0.5, 0.5, 0])"
   ]
  },
  {
   "cell_type": "code",
   "execution_count": 167,
   "metadata": {},
   "outputs": [
    {
     "name": "stdout",
     "output_type": "stream",
     "text": [
      "C=[0.5000 0.5000 0.0000]\n",
      "C=[0.7561 0.4570 0.0000]\n",
      "C=[1.0000 0.4152 0.0000]\n",
      "C=[1.0000 0.4144 0.0000]\n",
      "C=[1.0000 0.4142 0.0000]\n",
      "C=[1.0000 0.4142 0.0000]\n"
     ]
    }
   ],
   "source": [
    "C = np.array([0.5, 0.5, 0])\n",
    "for i in range(5):\n",
    "    print(f\"C={C}\")\n",
    "    C = gradient_descend(C, V, 1, 0.4, 'max')\n",
    "print(f\"C={C}\")"
   ]
  },
  {
   "cell_type": "code",
   "execution_count": 71,
   "metadata": {},
   "outputs": [
    {
     "name": "stdout",
     "output_type": "stream",
     "text": [
      "[[0.0255]\n",
      " [0.4869]]\n",
      "[[0.3866]\n",
      " [0.6134]]\n",
      "[[ 0.0000  0.5000  0.0000]\n",
      " [ 0.0000 -0.2632  0.0000]]\n",
      "[[ 0.0000  0.0127  0.0000]\n",
      " [ 0.0000 -0.1282  0.0000]]\n",
      "[[ 0.0000  0.1933  0.0000]\n",
      " [ 0.0000 -0.1615  0.0000]]\n"
     ]
    }
   ],
   "source": [
    "dist = jaccard(V, C.reshape(1, -1))\n",
    "grad = gradient(C, V)\n",
    "edist = np.e ** dist\n",
    "softmax = edist / edist.sum()\n",
    "print(dist)\n",
    "print(softmax)\n",
    "print(grad)\n",
    "print(dist * grad)\n",
    "print(softmax * grad)"
   ]
  },
  {
   "cell_type": "code",
   "execution_count": null,
   "metadata": {},
   "outputs": [
    {
     "name": "stdout",
     "output_type": "stream",
     "text": [
      "[[18.7074]\n",
      " [18.7078]]\n",
      "[[ 0.0000  0.5000  0.0000]\n",
      " [ 0.0000 -0.5000  0.0000]]\n",
      "[[ 0.0000  0.2500  0.0000]\n",
      " [ 0.0000 -0.2500  0.0000]]\n"
     ]
    }
   ],
   "source": []
  },
  {
   "cell_type": "code",
   "execution_count": null,
   "metadata": {},
   "outputs": [],
   "source": []
  },
  {
   "cell_type": "code",
   "execution_count": null,
   "metadata": {},
   "outputs": [],
   "source": []
  }
 ],
 "metadata": {
  "kernelspec": {
   "display_name": "Python 3",
   "language": "python",
   "name": "python3"
  },
  "language_info": {
   "codemirror_mode": {
    "name": "ipython",
    "version": 3
   },
   "file_extension": ".py",
   "mimetype": "text/x-python",
   "name": "python",
   "nbconvert_exporter": "python",
   "pygments_lexer": "ipython3",
   "version": "3.12.7"
  }
 },
 "nbformat": 4,
 "nbformat_minor": 2
}
