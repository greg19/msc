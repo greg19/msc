{
 "cells": [
  {
   "cell_type": "code",
   "execution_count": 1,
   "metadata": {},
   "outputs": [],
   "source": [
    "%load_ext autoreload\n",
    "%autoreload 2"
   ]
  },
  {
   "cell_type": "code",
   "execution_count": 137,
   "metadata": {},
   "outputs": [],
   "source": [
    "import numpy as np\n",
    "from tqdm import tqdm\n",
    "\n",
    "from jaccard import *"
   ]
  },
  {
   "cell_type": "code",
   "execution_count": 3,
   "metadata": {},
   "outputs": [],
   "source": [
    "np.set_printoptions(precision=4, suppress=True, floatmode='fixed')"
   ]
  },
  {
   "cell_type": "code",
   "execution_count": 4,
   "metadata": {},
   "outputs": [],
   "source": [
    "m = 3\n",
    "n = 5\n",
    "avg_votes = 2\n",
    "projects_to_found = 2"
   ]
  },
  {
   "cell_type": "code",
   "execution_count": 5,
   "metadata": {},
   "outputs": [
    {
     "name": "stdout",
     "output_type": "stream",
     "text": [
      "[0.5000 0.5000 0.5000]\n"
     ]
    }
   ],
   "source": [
    "costs = np.ones(m) / projects_to_found - 1e-6\n",
    "def cost(center: np.ndarray) -> float:\n",
    "    return (center * costs).sum()\n",
    "print(costs)"
   ]
  },
  {
   "cell_type": "code",
   "execution_count": null,
   "metadata": {},
   "outputs": [],
   "source": [
    "def dist_to_centers(V: np.ndarray, centers: np.ndarray) -> tuple[np.ndarray, np.ndarray]:\n",
    "    d = jaccard(V, centers)\n",
    "    return d.min(axis=1), d.argmin(axis=1)\n",
    "def remove_bad_centers(V: np.ndarray, centers: np.ndarray) -> np.ndarray:\n",
    "    while True:\n",
    "        _, assignment = dist_to_centers(V, centers)\n",
    "        efficiency = [\n",
    "            ((n2 / n) / cost(centers[c]), c)\n",
    "            for c, n2 in zip(*np.unique(assignment, return_counts=True))\n",
    "        ]\n",
    "        for i in range(len(centers)):\n",
    "            if i not in {c for _, c in efficiency}:\n",
    "                efficiency.append((0, i))\n",
    "        eff, c = min(efficiency)\n",
    "        if eff < 1.0:\n",
    "            centers = np.delete(centers, c, axis=0)\n",
    "        else:\n",
    "            break\n",
    "    return centers"
   ]
  },
  {
   "cell_type": "code",
   "execution_count": 227,
   "metadata": {},
   "outputs": [
    {
     "name": "stdout",
     "output_type": "stream",
     "text": [
      "[[0.0000 0.0000 0.1000]\n",
      " [0.0000 0.0000 0.2000]\n",
      " [0.0000 0.0000 0.3000]\n",
      " ...\n",
      " [1.0000 1.0000 0.8000]\n",
      " [1.0000 1.0000 0.9000]\n",
      " [1.0000 1.0000 1.0000]] 1330\n"
     ]
    }
   ],
   "source": [
    "linspace = np.linspace(0, 1, 10 + 1)\n",
    "def find_candidates(lst: list[float]):\n",
    "    if len(lst) == m:\n",
    "        yield lst\n",
    "        return\n",
    "    for x in linspace:\n",
    "        lst2 = lst + [x]\n",
    "        yield from find_candidates(lst2)\n",
    "candidates = np.array(list(find_candidates([]))[1:])\n",
    "print(candidates, len(candidates))\n",
    "\n",
    "def is_blocking_coalition(V, c, old) -> bool:\n",
    "    new = jaccard(V, c.reshape(1, m)).reshape(-1)\n",
    "    return np.sum(new + 1e-15 < old) / n >= cost(c)\n",
    "def find_blocking_coalition(V: np.ndarray, centers: np.ndarray) -> np.ndarray | None:\n",
    "    old, _ = dist_to_centers(V, centers)\n",
    "    for v in candidates:\n",
    "        if is_blocking_coalition(V, v, old):\n",
    "            return v\n",
    "    return None"
   ]
  },
  {
   "cell_type": "code",
   "execution_count": 228,
   "metadata": {},
   "outputs": [],
   "source": [
    "def converges(V: np.ndarray, C: np.ndarray) -> bool:\n",
    "    history = set(tuple(map(tuple, C)))\n",
    "    for _ in range(1000):\n",
    "        c = find_blocking_coalition(V, C)\n",
    "        if c is not None:\n",
    "            C = np.append(C, c.reshape(1, m), axis=0)\n",
    "            #C = remove_bad_centers(V, C)\n",
    "            C = C[np.unique(dist_to_centers(V, C)[1])]\n",
    "            h = tuple(map(tuple, C))\n",
    "            if h in history:\n",
    "                return False\n",
    "            history.add(h)\n",
    "        else:\n",
    "            break\n",
    "    else:\n",
    "        raise RuntimeError('Too few iterations')\n",
    "    return True"
   ]
  },
  {
   "cell_type": "code",
   "execution_count": 230,
   "metadata": {},
   "outputs": [
    {
     "name": "stderr",
     "output_type": "stream",
     "text": [
      "  0%|          | 0/10000 [00:00<?, ?it/s]"
     ]
    },
    {
     "name": "stderr",
     "output_type": "stream",
     "text": [
      "  2%|▏         | 186/10000 [00:18<16:38,  9.83it/s]\n"
     ]
    },
    {
     "ename": "KeyboardInterrupt",
     "evalue": "",
     "output_type": "error",
     "traceback": [
      "\u001b[0;31m---------------------------------------------------------------------------\u001b[0m",
      "\u001b[0;31mKeyboardInterrupt\u001b[0m                         Traceback (most recent call last)",
      "Cell \u001b[0;32mIn[230], line 4\u001b[0m\n\u001b[1;32m      2\u001b[0m V \u001b[38;5;241m=\u001b[39m np\u001b[38;5;241m.\u001b[39mrandom\u001b[38;5;241m.\u001b[39mchoice([\u001b[38;5;241m0\u001b[39m, \u001b[38;5;241m1\u001b[39m], (\u001b[38;5;241m10\u001b[39m, m), p\u001b[38;5;241m=\u001b[39m[\u001b[38;5;241m1\u001b[39m \u001b[38;5;241m-\u001b[39m avg_votes \u001b[38;5;241m/\u001b[39m m, avg_votes \u001b[38;5;241m/\u001b[39m m])\n\u001b[1;32m      3\u001b[0m C \u001b[38;5;241m=\u001b[39m remove_bad_centers(V, np\u001b[38;5;241m.\u001b[39meye(m))\n\u001b[0;32m----> 4\u001b[0m \u001b[38;5;28;01mif\u001b[39;00m \u001b[38;5;129;01mnot\u001b[39;00m \u001b[43mconverges\u001b[49m\u001b[43m(\u001b[49m\u001b[43mV\u001b[49m\u001b[43m,\u001b[49m\u001b[43m \u001b[49m\u001b[43mC\u001b[49m\u001b[43m)\u001b[49m:\n\u001b[1;32m      5\u001b[0m     \u001b[38;5;28mprint\u001b[39m(\u001b[38;5;124m\"\u001b[39m\u001b[38;5;124mDoes not converge!\u001b[39m\u001b[38;5;124m\"\u001b[39m)\n\u001b[1;32m      6\u001b[0m     \u001b[38;5;28mprint\u001b[39m(V)\n",
      "Cell \u001b[0;32mIn[228], line 4\u001b[0m, in \u001b[0;36mconverges\u001b[0;34m(V, C)\u001b[0m\n\u001b[1;32m      2\u001b[0m history \u001b[38;5;241m=\u001b[39m \u001b[38;5;28mset\u001b[39m(\u001b[38;5;28mtuple\u001b[39m(\u001b[38;5;28mmap\u001b[39m(\u001b[38;5;28mtuple\u001b[39m, C)))\n\u001b[1;32m      3\u001b[0m \u001b[38;5;28;01mfor\u001b[39;00m _ \u001b[38;5;129;01min\u001b[39;00m \u001b[38;5;28mrange\u001b[39m(\u001b[38;5;241m1000\u001b[39m):\n\u001b[0;32m----> 4\u001b[0m     c \u001b[38;5;241m=\u001b[39m \u001b[43mfind_blocking_coalition\u001b[49m\u001b[43m(\u001b[49m\u001b[43mV\u001b[49m\u001b[43m,\u001b[49m\u001b[43m \u001b[49m\u001b[43mC\u001b[49m\u001b[43m)\u001b[49m\n\u001b[1;32m      5\u001b[0m     \u001b[38;5;28;01mif\u001b[39;00m c \u001b[38;5;129;01mis\u001b[39;00m \u001b[38;5;129;01mnot\u001b[39;00m \u001b[38;5;28;01mNone\u001b[39;00m:\n\u001b[1;32m      6\u001b[0m         C \u001b[38;5;241m=\u001b[39m np\u001b[38;5;241m.\u001b[39mappend(C, c\u001b[38;5;241m.\u001b[39mreshape(\u001b[38;5;241m1\u001b[39m, m), axis\u001b[38;5;241m=\u001b[39m\u001b[38;5;241m0\u001b[39m)\n",
      "Cell \u001b[0;32mIn[227], line 18\u001b[0m, in \u001b[0;36mfind_blocking_coalition\u001b[0;34m(V, centers)\u001b[0m\n\u001b[1;32m     16\u001b[0m old, _ \u001b[38;5;241m=\u001b[39m dist_to_centers(V, centers)\n\u001b[1;32m     17\u001b[0m \u001b[38;5;28;01mfor\u001b[39;00m v \u001b[38;5;129;01min\u001b[39;00m candidates:\n\u001b[0;32m---> 18\u001b[0m     \u001b[38;5;28;01mif\u001b[39;00m \u001b[43mis_blocking_coalition\u001b[49m\u001b[43m(\u001b[49m\u001b[43mV\u001b[49m\u001b[43m,\u001b[49m\u001b[43m \u001b[49m\u001b[43mv\u001b[49m\u001b[43m,\u001b[49m\u001b[43m \u001b[49m\u001b[43mold\u001b[49m\u001b[43m)\u001b[49m:\n\u001b[1;32m     19\u001b[0m         \u001b[38;5;28;01mreturn\u001b[39;00m v\n\u001b[1;32m     20\u001b[0m \u001b[38;5;28;01mreturn\u001b[39;00m \u001b[38;5;28;01mNone\u001b[39;00m\n",
      "Cell \u001b[0;32mIn[227], line 14\u001b[0m, in \u001b[0;36mis_blocking_coalition\u001b[0;34m(V, c, old)\u001b[0m\n\u001b[1;32m     12\u001b[0m \u001b[38;5;28;01mdef\u001b[39;00m \u001b[38;5;21mis_blocking_coalition\u001b[39m(V, c, old) \u001b[38;5;241m-\u001b[39m\u001b[38;5;241m>\u001b[39m \u001b[38;5;28mbool\u001b[39m:\n\u001b[1;32m     13\u001b[0m     new \u001b[38;5;241m=\u001b[39m jaccard(V, c\u001b[38;5;241m.\u001b[39mreshape(\u001b[38;5;241m1\u001b[39m, m))\u001b[38;5;241m.\u001b[39mreshape(\u001b[38;5;241m-\u001b[39m\u001b[38;5;241m1\u001b[39m)\n\u001b[0;32m---> 14\u001b[0m     \u001b[38;5;28;01mreturn\u001b[39;00m \u001b[43mnp\u001b[49m\u001b[38;5;241;43m.\u001b[39;49m\u001b[43msum\u001b[49m\u001b[43m(\u001b[49m\u001b[43mnew\u001b[49m\u001b[43m \u001b[49m\u001b[38;5;241;43m+\u001b[39;49m\u001b[43m \u001b[49m\u001b[38;5;241;43m1e-15\u001b[39;49m\u001b[43m \u001b[49m\u001b[38;5;241;43m<\u001b[39;49m\u001b[43m \u001b[49m\u001b[43mold\u001b[49m\u001b[43m)\u001b[49m \u001b[38;5;241m/\u001b[39m n \u001b[38;5;241m>\u001b[39m\u001b[38;5;241m=\u001b[39m cost(c)\n",
      "File \u001b[0;32m/usr/lib/python3.12/site-packages/numpy/_core/fromnumeric.py:2333\u001b[0m, in \u001b[0;36m_sum_dispatcher\u001b[0;34m(a, axis, dtype, out, keepdims, initial, where)\u001b[0m\n\u001b[1;32m   2327\u001b[0m         \u001b[38;5;28;01mraise\u001b[39;00m \u001b[38;5;167;01mValueError\u001b[39;00m(\u001b[38;5;124m\"\u001b[39m\u001b[38;5;124mPassing `min` or `max` keyword argument when \u001b[39m\u001b[38;5;124m\"\u001b[39m\n\u001b[1;32m   2328\u001b[0m                          \u001b[38;5;124m\"\u001b[39m\u001b[38;5;124m`a_min` and `a_max` are provided is forbidden.\u001b[39m\u001b[38;5;124m\"\u001b[39m)\n\u001b[1;32m   2330\u001b[0m     \u001b[38;5;28;01mreturn\u001b[39;00m _wrapfunc(a, \u001b[38;5;124m'\u001b[39m\u001b[38;5;124mclip\u001b[39m\u001b[38;5;124m'\u001b[39m, a_min, a_max, out\u001b[38;5;241m=\u001b[39mout, \u001b[38;5;241m*\u001b[39m\u001b[38;5;241m*\u001b[39mkwargs)\n\u001b[0;32m-> 2333\u001b[0m \u001b[38;5;28;01mdef\u001b[39;00m \u001b[38;5;21m_sum_dispatcher\u001b[39m(a, axis\u001b[38;5;241m=\u001b[39m\u001b[38;5;28;01mNone\u001b[39;00m, dtype\u001b[38;5;241m=\u001b[39m\u001b[38;5;28;01mNone\u001b[39;00m, out\u001b[38;5;241m=\u001b[39m\u001b[38;5;28;01mNone\u001b[39;00m, keepdims\u001b[38;5;241m=\u001b[39m\u001b[38;5;28;01mNone\u001b[39;00m,\n\u001b[1;32m   2334\u001b[0m                     initial\u001b[38;5;241m=\u001b[39m\u001b[38;5;28;01mNone\u001b[39;00m, where\u001b[38;5;241m=\u001b[39m\u001b[38;5;28;01mNone\u001b[39;00m):\n\u001b[1;32m   2335\u001b[0m     \u001b[38;5;28;01mreturn\u001b[39;00m (a, out)\n\u001b[1;32m   2338\u001b[0m \u001b[38;5;129m@array_function_dispatch\u001b[39m(_sum_dispatcher)\n\u001b[1;32m   2339\u001b[0m \u001b[38;5;28;01mdef\u001b[39;00m \u001b[38;5;21msum\u001b[39m(a, axis\u001b[38;5;241m=\u001b[39m\u001b[38;5;28;01mNone\u001b[39;00m, dtype\u001b[38;5;241m=\u001b[39m\u001b[38;5;28;01mNone\u001b[39;00m, out\u001b[38;5;241m=\u001b[39m\u001b[38;5;28;01mNone\u001b[39;00m, keepdims\u001b[38;5;241m=\u001b[39mnp\u001b[38;5;241m.\u001b[39m_NoValue,\n\u001b[1;32m   2340\u001b[0m         initial\u001b[38;5;241m=\u001b[39mnp\u001b[38;5;241m.\u001b[39m_NoValue, where\u001b[38;5;241m=\u001b[39mnp\u001b[38;5;241m.\u001b[39m_NoValue):\n",
      "\u001b[0;31mKeyboardInterrupt\u001b[0m: "
     ]
    }
   ],
   "source": [
    "for i in tqdm(range(10000)):\n",
    "    V = np.random.choice([0, 1], (10, m), p=[1 - avg_votes / m, avg_votes / m])\n",
    "    C = remove_bad_centers(V, np.eye(m))\n",
    "    if not converges(V, C):\n",
    "        print(\"Does not converge!\")\n",
    "        print(V)\n",
    "        print(C)\n",
    "        break"
   ]
  },
  {
   "cell_type": "code",
   "execution_count": 199,
   "metadata": {},
   "outputs": [
    {
     "name": "stdout",
     "output_type": "stream",
     "text": [
      "i=0   \n",
      "blocking coalition: [1.0000 0.2000 0.2000]\n",
      "[[1.0000 0.2000 0.2000]]\n",
      "\n",
      "i=1   \n",
      "blocking coalition: [1.0000 0.0000 0.2000]\n",
      "[[1.0000 0.0000 0.2000]]\n",
      "\n",
      "i=2   \n",
      "blocking coalition: [1.0000 0.0000 0.0000]\n",
      "[[1.0000 0.0000 0.0000]]\n",
      "\n",
      "i=3   \n",
      "blocking coalition: [1.0000 0.2000 0.2000]\n",
      "[[1.0000 0.2000 0.2000]]\n",
      "\n",
      "Repetition!\n",
      "[[1 1 0]\n",
      " [1 1 0]\n",
      " [1 0 1]\n",
      " [1 0 1]\n",
      " [1 0 0]]\n",
      "[[0]\n",
      " [0]\n",
      " [0]\n",
      " [0]\n",
      " [0]]\n",
      "[[1.0000 0.2000 0.2000]]\n"
     ]
    }
   ],
   "source": [
    "#V = np.random.choice([0, 1], (n, m), p=[1 - avg_votes / m, avg_votes / m])\n",
    "V = np.array([\n",
    "    [1,1,0],\n",
    "    [1,1,0],\n",
    "    [1,0,1],\n",
    "    [1,0,1],\n",
    "    [1,0,0],\n",
    "])\n",
    "C = remove_bad_centers(V, np.eye(m))\n",
    "\n",
    "history = set(tuple(map(tuple, C)))\n",
    "blocking_coalitions = []\n",
    "\n",
    "for i in range(1000):\n",
    "    c = find_blocking_coalition(V, C)\n",
    "    if c is not None:\n",
    "        blocking_coalitions.append(c)\n",
    "        C = np.append(C, c.reshape(1, m), axis=0)\n",
    "        C = remove_bad_centers(V, C)\n",
    "        #print(f\"{i=:<4}  centers={len(C):<2}  blocking coalition: {c}\")\n",
    "        print(f\"{i=:<4}\")\n",
    "        print(f\"blocking coalition: {c}\")\n",
    "        print(C)\n",
    "        print()\n",
    "        h = tuple(map(tuple, C))\n",
    "        if h in history:\n",
    "            print(\"Repetition!\")\n",
    "            break\n",
    "        history.add(h)\n",
    "    else:\n",
    "        break\n",
    "else:\n",
    "    print(f\"Did not converge!\")\n",
    "dist, assignment = dist_to_centers(V, C)\n",
    "print(V)\n",
    "print(assignment.reshape(-1, 1))\n",
    "print(C)"
   ]
  },
  {
   "cell_type": "code",
   "execution_count": 154,
   "metadata": {},
   "outputs": [
    {
     "data": {
      "text/plain": [
       "[array([1.0000, 0.2000, 0.2000]),\n",
       " array([1.0000, 0.0000, 0.2000]),\n",
       " array([1.0000, 0.0000, 0.0000]),\n",
       " array([1.0000, 0.2000, 0.2000])]"
      ]
     },
     "execution_count": 154,
     "metadata": {},
     "output_type": "execute_result"
    }
   ],
   "source": [
    "blocking_coalitions"
   ]
  },
  {
   "cell_type": "code",
   "execution_count": null,
   "metadata": {},
   "outputs": [
    {
     "name": "stdout",
     "output_type": "stream",
     "text": [
      "[[1 1 0]\n",
      " [1 1 0]\n",
      " [1 0 1]\n",
      " [1 0 1]\n",
      " [1 0 0]]\n",
      "[[1.0000 0.0000 0.0000]]\n"
     ]
    },
    {
     "ename": "AssertionError",
     "evalue": "c=[1.0000 0.0000 0.2000]\nC=[[1.0000 0.0000 0.0000]]",
     "output_type": "error",
     "traceback": [
      "\u001b[0;31m---------------------------------------------------------------------------\u001b[0m",
      "\u001b[0;31mAssertionError\u001b[0m                            Traceback (most recent call last)",
      "Cell \u001b[0;32mIn[218], line 23\u001b[0m\n\u001b[1;32m     21\u001b[0m \u001b[38;5;28;01mfor\u001b[39;00m i, c \u001b[38;5;129;01min\u001b[39;00m \u001b[38;5;28menumerate\u001b[39m(coalitions):\n\u001b[1;32m     22\u001b[0m     dist, _ \u001b[38;5;241m=\u001b[39m dist_to_centers(V, C)\n\u001b[0;32m---> 23\u001b[0m     \u001b[38;5;28;01massert\u001b[39;00m is_blocking_coalition(V, c, dist), \u001b[38;5;124mf\u001b[39m\u001b[38;5;124m\"\u001b[39m\u001b[38;5;124mc=\u001b[39m\u001b[38;5;132;01m{\u001b[39;00mc\u001b[38;5;132;01m}\u001b[39;00m\u001b[38;5;130;01m\\n\u001b[39;00m\u001b[38;5;124mC=\u001b[39m\u001b[38;5;132;01m{\u001b[39;00mC\u001b[38;5;132;01m}\u001b[39;00m\u001b[38;5;124m\"\u001b[39m\n\u001b[1;32m     24\u001b[0m     \u001b[38;5;28;01mif\u001b[39;00m c \u001b[38;5;129;01mis\u001b[39;00m \u001b[38;5;129;01mnot\u001b[39;00m \u001b[38;5;28;01mNone\u001b[39;00m:\n\u001b[1;32m     25\u001b[0m         C \u001b[38;5;241m=\u001b[39m np\u001b[38;5;241m.\u001b[39mappend(C, c\u001b[38;5;241m.\u001b[39mreshape(\u001b[38;5;241m1\u001b[39m, m), axis\u001b[38;5;241m=\u001b[39m\u001b[38;5;241m0\u001b[39m)\n",
      "\u001b[0;31mAssertionError\u001b[0m: c=[1.0000 0.0000 0.2000]\nC=[[1.0000 0.0000 0.0000]]"
     ]
    }
   ],
   "source": [
    "V = np.array([\n",
    "    [1, 1, 0],\n",
    "    [1, 1, 0],\n",
    "    [1, 0, 1],\n",
    "    [1, 0, 1],\n",
    "    [1, 0, 0],\n",
    "])\n",
    "C = remove_bad_centers(V, np.eye(m))\n",
    "print(V)\n",
    "print(C)\n",
    "\n",
    "history = set(tuple(map(tuple, C)))\n",
    "\n",
    "coalitions = [\n",
    " np.array([1.0, 0.2, 0.2]),\n",
    " np.array([1.0, 0.0, 0.2]),\n",
    " np.array([1.0, 0.0, 0.0]),\n",
    " np.array([1.0, 0.2, 0.2])\n",
    "]\n",
    "\n",
    "for i, c in enumerate(coalitions):\n",
    "    dist, _ = dist_to_centers(V, C)\n",
    "    assert is_blocking_coalition(V, c, dist), f\"c={c}\\nC={C}\"\n",
    "    if c is not None:\n",
    "        C = np.append(C, c.reshape(1, m), axis=0)\n",
    "        C = remove_bad_centers(V, C)\n",
    "        #print(f\"{i=:<4}  centers={len(C):<2}  blocking coalition: {c}\")\n",
    "        print(f\"{i=:<4}\")\n",
    "        print(c)\n",
    "        print(C)\n",
    "        print()\n",
    "        h = tuple(map(tuple, C))\n",
    "        if h in history:\n",
    "            print(\"Repetition!\")\n",
    "            break\n",
    "        history.add(h)\n",
    "    else:\n",
    "        break\n",
    "else:\n",
    "    print(f\"Did not converge!\")"
   ]
  },
  {
   "cell_type": "code",
   "execution_count": 224,
   "metadata": {},
   "outputs": [
    {
     "data": {
      "text/plain": [
       "array([[1, 0]])"
      ]
     },
     "execution_count": 224,
     "metadata": {},
     "output_type": "execute_result"
    }
   ],
   "source": [
    "V = np.array([[1, 0]])\n",
    "C = np.array([[1, 0], [0, 1]])\n",
    "C[np.unique(dist_to_centers(V, C)[1])]"
   ]
  },
  {
   "cell_type": "code",
   "execution_count": null,
   "metadata": {},
   "outputs": [],
   "source": []
  }
 ],
 "metadata": {
  "kernelspec": {
   "display_name": "Python 3",
   "language": "python",
   "name": "python3"
  },
  "language_info": {
   "codemirror_mode": {
    "name": "ipython",
    "version": 3
   },
   "file_extension": ".py",
   "mimetype": "text/x-python",
   "name": "python",
   "nbconvert_exporter": "python",
   "pygments_lexer": "ipython3",
   "version": "3.12.7"
  }
 },
 "nbformat": 4,
 "nbformat_minor": 2
}
